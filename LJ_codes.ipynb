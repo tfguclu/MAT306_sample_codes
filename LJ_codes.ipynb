{
 "cells": [
  {
   "cell_type": "code",
   "execution_count": 1,
   "id": "excellent-circulation",
   "metadata": {},
   "outputs": [],
   "source": [
    "import numpy as np\n",
    "import matplotlib.pyplot as plt"
   ]
  },
  {
   "cell_type": "markdown",
   "id": "second-password",
   "metadata": {},
   "source": [
    "## Lennard-Jones potential: $\\epsilon [ (r_{min}/r)^{12} - 2 (r_{min}/r)^6 ]$"
   ]
  },
  {
   "cell_type": "markdown",
   "id": "wrapped-correction",
   "metadata": {},
   "source": [
    "### Rule 1: Between two different species, <em> $r_{min}$ </em> values calculated as 'arithmetic mean'."
   ]
  },
  {
   "cell_type": "markdown",
   "id": "excited-reaction",
   "metadata": {},
   "source": [
    "### Rule 2: Between two different species, $\\epsilon$ values calculated as 'geometric mean'."
   ]
  },
  {
   "cell_type": "markdown",
   "id": "french-laugh",
   "metadata": {},
   "source": [
    "### A note:\n",
    "### $r_{min} =\\sigma \\times 2^{1/6}$"
   ]
  },
  {
   "cell_type": "code",
   "execution_count": 2,
   "id": "serious-stewart",
   "metadata": {},
   "outputs": [
    {
     "name": "stdout",
     "output_type": "stream",
     "text": [
      "0.03968626966596886\n"
     ]
    }
   ],
   "source": [
    "rmin_A_half = 1.3400\n",
    "rmin_B_half = 1.3400\n",
    "\n",
    "epsilon_A = -0.0450\n",
    "epsilon_B = -0.0350\n",
    "\n",
    "epsilon_tot = np.sqrt(np.multiply(epsilon_A, epsilon_B))\n",
    "print(epsilon_tot)\n",
    "\n",
    "Rr = np.arange(2, 10, 0.01)\n",
    "\n",
    "repuls_part = np.power(np.divide(rmin_A_half+rmin_B_half, Rr), 12)\n",
    "atract_part = 2*np.power(np.divide(rmin_A_half+rmin_B_half, Rr), 6)\n",
    "\n",
    "LJ_pot = epsilon_tot * (repuls_part-atract_part)"
   ]
  },
  {
   "cell_type": "code",
   "execution_count": 3,
   "id": "interesting-detroit",
   "metadata": {},
   "outputs": [
    {
     "data": {
      "image/png": "[encoded data removed]",
      "text/plain": [
       "<Figure size 648x360 with 1 Axes>"
      ]
     },
     "metadata": {
      "needs_background": "light"
     },
     "output_type": "display_data"
    }
   ],
   "source": [
    "fig, ax = plt.subplots(figsize=(9,5))\n",
    "ax.set_ylabel('Energy (kcal/mol)'); #set label names\n",
    "ax.set_xlabel('r (Angstrom)');\n",
    "plt.yticks(fontsize=12, fontname = \"Arial\")\n",
    "plt.ylim(-0.05, 0.02)\n",
    "#plt.xlim(0, 12)\n",
    "plt.xticks(fontsize=12, fontname = \"Arial\")\n",
    "#plt.xticks([0, 3000, 6000, 9000, 13000], [0, 3, 6, 9, 13])\n",
    "plt.plot(Rr,LJ_pot, color='black')\n",
    "plt.axhline(0, color='b')\n",
    "plt.show()\n",
    "plt.close()"
   ]
  },
  {
   "cell_type": "code",
   "execution_count": null,
   "id": "spatial-seattle",
   "metadata": {},
   "outputs": [],
   "source": []
  },
  {
   "cell_type": "code",
   "execution_count": 6,
   "id": "understanding-prediction",
   "metadata": {},
   "outputs": [
    {
     "name": "stdout",
     "output_type": "stream",
     "text": [
      "0.03968626966596886\n",
      "1005.6044230467195\n"
     ]
    }
   ],
   "source": [
    "rmin_A_half = 1.3400\n",
    "rmin_B_half = 1.3400\n",
    "\n",
    "epsilon_A = -0.0450\n",
    "epsilon_B = -0.0350\n",
    "\n",
    "epsilon_tot = np.sqrt(np.multiply(epsilon_A, epsilon_B))\n",
    "print(epsilon_tot)\n",
    "\n",
    "Rr = 1.15\n",
    "\n",
    "repuls_part = np.power(np.divide(rmin_A_half+rmin_B_half, Rr), 12)\n",
    "atract_part = 2*np.power(np.divide(rmin_A_half+rmin_B_half, Rr), 6)\n",
    "\n",
    "LJ_pot = epsilon_tot * (repuls_part-atract_part)\n",
    "print(LJ_pot)"
   ]
  },
  {
   "cell_type": "code",
   "execution_count": null,
   "id": "adult-salmon",
   "metadata": {},
   "outputs": [],
   "source": []
  }
 ],
 "metadata": {
  "kernelspec": {
   "display_name": "Python 3",
   "language": "python",
   "name": "python3"
  },
  "language_info": {
   "codemirror_mode": {
    "name": "ipython",
    "version": 3
   },
   "file_extension": ".py",
   "mimetype": "text/x-python",
   "name": "python",
   "nbconvert_exporter": "python",
   "pygments_lexer": "ipython3",
   "version": "3.7.9"
  }
 },
 "nbformat": 4,
 "nbformat_minor": 5
}
